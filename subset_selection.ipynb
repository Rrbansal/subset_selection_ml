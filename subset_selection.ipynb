{
  "nbformat": 4,
  "nbformat_minor": 0,
  "metadata": {
    "colab": {
      "provenance": [],
      "authorship_tag": "ABX9TyO2WOuiJCt+xaGLhHTmCXdm",
      "include_colab_link": true
    },
    "kernelspec": {
      "name": "python3",
      "display_name": "Python 3"
    },
    "language_info": {
      "name": "python"
    }
  },
  "cells": [
    {
      "cell_type": "markdown",
      "metadata": {
        "id": "view-in-github",
        "colab_type": "text"
      },
      "source": [
        "<a href=\"https://colab.research.google.com/github/Rrbansal/subset_selection_ml/blob/main/subset_selection.ipynb\" target=\"_parent\"><img src=\"https://colab.research.google.com/assets/colab-badge.svg\" alt=\"Open In Colab\"/></a>"
      ]
    },
    {
      "cell_type": "code",
      "execution_count": 2,
      "metadata": {
        "colab": {
          "base_uri": "https://localhost:8080/"
        },
        "id": "57mpskVd-P07",
        "outputId": "25d64798-15f6-4a9c-9131-b685ea4afb7a"
      },
      "outputs": [
        {
          "output_type": "stream",
          "name": "stdout",
          "text": [
            "(-7, -5, 3, 9)\n",
            "(-8, -7, -3, 7, 11)\n",
            "(-5, -4, -3, 2, 3, 7)\n",
            "(-12, 3, 9)\n",
            "(-7, -3, 1, 9)\n",
            "(-9, -2, 2, 3, 6)\n",
            "(-12, -2, 3, 11)\n",
            "(-7, -2, 1, 2, 6)\n",
            "(-9, -3, 1, 2, 3, 6)\n",
            "(-12, -3, 6, 9)\n",
            "(-6, -5, -2, 2, 11)\n",
            "(-4, -2, 6)\n",
            "(-12, -8, 3, 6, 11)\n",
            "(-8, -7, -6, 1, 9, 11)\n",
            "(-9, -5, 1, 6, 7)\n",
            "(-8, -3, 2, 3, 6)\n",
            "(-4, -3, 1, 6)\n",
            "(-8, -3, 11)\n",
            "(-9, 1, 2, 6)\n",
            "(-12, -8, -2, 6, 7, 9)\n",
            "(-3, 1, 2)\n",
            "(-8, -6, -4, 1, 6, 11)\n",
            "\n",
            "Total Sets:  22\n"
          ]
        },
        {
          "output_type": "stream",
          "name": "stderr",
          "text": [
            "<ipython-input-2-e6eecdc27bc9>:23: DeprecationWarning: Sampling from a set deprecated\n",
            "since Python 3.9 and will be removed in a subsequent version.\n",
            "  subset = r.sample(Set,SetSize)\n"
          ]
        }
      ],
      "source": [
        "import random as r\n",
        "\n",
        "#-------------------------------------------------------------\n",
        "# Step 2: Parameter Setting\n",
        "#-------------------------------------------------------------\n",
        "Set         = set([-12, -3, -6, 7, 2, -2, 6, 3, 9, -7, -5, -8, 1, 11, -9, -4])\n",
        "SetLB       = 3\n",
        "SetUB       = 6\n",
        "ResultList  = set()    # Store Result List i.e. list of sets whose sum is zero\n",
        "Iterations  = 1000   # Number of Inerations\n",
        "\n",
        "\n",
        "#-------------------------------------------------------------\n",
        "# Step3: Start Program\n",
        "#-------------------------------------------------------------\n",
        "\n",
        "# Loop till number of Iterations\n",
        "for i in range(Iterations):\n",
        "    # Select set size randomly\n",
        "    SetSize = r.randint(SetLB,SetUB)\n",
        "\n",
        "    # Select number of elements from Set\n",
        "    subset = r.sample(Set,SetSize)\n",
        "    subset.sort()\n",
        "\n",
        "    # Sum the number of elements in the Chromosome\n",
        "    if sum(subset) == 0:\n",
        "        ResultList.add(tuple(subset))\n",
        "\n",
        "# Print all the sets whose sum is zero\n",
        "for r in ResultList:\n",
        "\tprint (r)\n",
        "\n",
        "# Print total sets\n",
        "print (\"\\nTotal Sets: \", len(ResultList))"
      ]
    }
  ]
}